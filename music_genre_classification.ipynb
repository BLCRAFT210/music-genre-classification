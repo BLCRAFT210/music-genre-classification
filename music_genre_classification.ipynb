{
 "cells": [
  {
   "cell_type": "markdown",
   "metadata": {},
   "source": [
    "Import data"
   ]
  },
  {
   "cell_type": "code",
   "execution_count": 1,
   "metadata": {},
   "outputs": [],
   "source": [
    "import requests\n",
    "import csv"
   ]
  },
  {
   "cell_type": "code",
   "execution_count": 2,
   "metadata": {},
   "outputs": [
    {
     "data": {
      "text/plain": [
       "[{'track_id': '6f807x0ima9a1j3VPbc7VN',\n",
       "  'track_name': \"I Don't Care (with Justin Bieber) - Loud Luxury Remix\",\n",
       "  'track_artist': 'Ed Sheeran',\n",
       "  'playlist_genre': 'pop',\n",
       "  'playlist_subgenre': 'dance pop',\n",
       "  'danceability': '0.748',\n",
       "  'energy': '0.916',\n",
       "  'key': '6',\n",
       "  'loudness': '-2.634',\n",
       "  'mode': '1',\n",
       "  'speechiness': '0.0583',\n",
       "  'acousticness': '0.102',\n",
       "  'instrumentalness': '0',\n",
       "  'liveness': '0.0653',\n",
       "  'valence': '0.518',\n",
       "  'tempo': '122.036',\n",
       "  'duration_ms': '194754'},\n",
       " {'track_id': '0r7CVbZTWZgbTCYdfa2P31',\n",
       "  'track_name': 'Memories - Dillon Francis Remix',\n",
       "  'track_artist': 'Maroon 5',\n",
       "  'playlist_genre': 'pop',\n",
       "  'playlist_subgenre': 'dance pop',\n",
       "  'danceability': '0.726',\n",
       "  'energy': '0.815',\n",
       "  'key': '11',\n",
       "  'loudness': '-4.969',\n",
       "  'mode': '1',\n",
       "  'speechiness': '0.0373',\n",
       "  'acousticness': '0.0724',\n",
       "  'instrumentalness': '0.00421',\n",
       "  'liveness': '0.357',\n",
       "  'valence': '0.693',\n",
       "  'tempo': '99.972',\n",
       "  'duration_ms': '162600'},\n",
       " {'track_id': '1z1Hg7Vb0AhHDiEmnDE79l',\n",
       "  'track_name': 'All the Time - Don Diablo Remix',\n",
       "  'track_artist': 'Zara Larsson',\n",
       "  'playlist_genre': 'pop',\n",
       "  'playlist_subgenre': 'dance pop',\n",
       "  'danceability': '0.675',\n",
       "  'energy': '0.931',\n",
       "  'key': '1',\n",
       "  'loudness': '-3.432',\n",
       "  'mode': '0',\n",
       "  'speechiness': '0.0742',\n",
       "  'acousticness': '0.0794',\n",
       "  'instrumentalness': '2.33e-5',\n",
       "  'liveness': '0.11',\n",
       "  'valence': '0.613',\n",
       "  'tempo': '124.008',\n",
       "  'duration_ms': '176616'},\n",
       " {'track_id': '75FpbthrwQmzHlBJLuGdC7',\n",
       "  'track_name': 'Call You Mine - Keanu Silva Remix',\n",
       "  'track_artist': 'The Chainsmokers',\n",
       "  'playlist_genre': 'pop',\n",
       "  'playlist_subgenre': 'dance pop',\n",
       "  'danceability': '0.718',\n",
       "  'energy': '0.93',\n",
       "  'key': '7',\n",
       "  'loudness': '-3.778',\n",
       "  'mode': '1',\n",
       "  'speechiness': '0.102',\n",
       "  'acousticness': '0.0287',\n",
       "  'instrumentalness': '9.43e-6',\n",
       "  'liveness': '0.204',\n",
       "  'valence': '0.277',\n",
       "  'tempo': '121.956',\n",
       "  'duration_ms': '169093'},\n",
       " {'track_id': '1e8PAfcKUYoKkxPhrHqw4x',\n",
       "  'track_name': 'Someone You Loved - Future Humans Remix',\n",
       "  'track_artist': 'Lewis Capaldi',\n",
       "  'playlist_genre': 'pop',\n",
       "  'playlist_subgenre': 'dance pop',\n",
       "  'danceability': '0.65',\n",
       "  'energy': '0.833',\n",
       "  'key': '1',\n",
       "  'loudness': '-4.672',\n",
       "  'mode': '1',\n",
       "  'speechiness': '0.0359',\n",
       "  'acousticness': '0.0803',\n",
       "  'instrumentalness': '0',\n",
       "  'liveness': '0.0833',\n",
       "  'valence': '0.725',\n",
       "  'tempo': '123.976',\n",
       "  'duration_ms': '189052'}]"
      ]
     },
     "execution_count": 2,
     "metadata": {},
     "output_type": "execute_result"
    }
   ],
   "source": [
    "URL = 'https://raw.githubusercontent.com/rfordatascience/tidytuesday/master/data/2020/2020-01-21/spotify_songs.csv'\n",
    "response = requests.get(URL)\n",
    "response.raise_for_status()\n",
    "\n",
    "columns = ['track_id', 'track_name', 'track_artist', 'playlist_genre', 'playlist_subgenre', 'danceability', 'energy', 'key', 'loudness', 'mode', 'speechiness', 'acousticness', 'instrumentalness', 'liveness', 'valence', 'tempo', 'duration_ms']\n",
    "\n",
    "data = response.text.splitlines()\n",
    "data = csv.DictReader(data)\n",
    "data = [{k: v for k, v in row.items() if k in columns} for row in data]\n",
    "data[:5]"
   ]
  },
  {
   "cell_type": "markdown",
   "metadata": {},
   "source": [
    "Data Preprocessing"
   ]
  },
  {
   "cell_type": "code",
   "execution_count": 3,
   "metadata": {},
   "outputs": [],
   "source": [
    "# create a one hot encoding for the playlist_genre and playlist_subgenre columns\n",
    "playlist_genre = set(row['playlist_genre'] for row in data)\n",
    "playlist_subgenre = set(row['playlist_subgenre'] for row in data)\n",
    "\n",
    "for row in data:\n",
    "    row['label'] = {}\n",
    "\n",
    "for genre in playlist_genre:\n",
    "    for subgenre in playlist_subgenre:\n",
    "        column_name = f'{genre}_{subgenre}'\n",
    "        for row in data:\n",
    "            row['label'][column_name] = int(row['playlist_genre'] == genre and row['playlist_subgenre'] == subgenre)\n",
    "\n",
    "# remove the original playlist_genre and playlist_subgenre columns\n",
    "for row in data:\n",
    "    del row['playlist_genre']\n",
    "    del row['playlist_subgenre']"
   ]
  },
  {
   "cell_type": "code",
   "execution_count": 4,
   "metadata": {},
   "outputs": [],
   "source": [
    "# create a one hot encoding for the key and mode columns\n",
    "key = set(row['key'] for row in data)\n",
    "mode = set(row['mode'] for row in data)\n",
    "\n",
    "for k in key:\n",
    "    for m in mode:\n",
    "        column_name = f'keymode_{k}_{m}'\n",
    "        for row in data:\n",
    "            row[column_name] = int(row['key'] == k and row['mode'] == m)\n",
    "\n",
    "# remove the original key and mode columns\n",
    "for row in data:\n",
    "    del row['key']\n",
    "    del row['mode']"
   ]
  },
  {
   "cell_type": "markdown",
   "metadata": {},
   "source": [
    "Feature engineering: normalization of continuous properties of songs"
   ]
  },
  {
   "cell_type": "code",
   "execution_count": null,
   "metadata": {},
   "outputs": [],
   "source": [
    "from sklearn.preprocessing import StandardScaler, MinMaxScaler\n",
    "import pandas as pd\n",
    "import numpy as np\n",
    "\n",
    "for track in data:\n",
    "    track['danceability'] = float(track['danceability'])\n",
    "    track['energy'] = float(track['energy'])\n",
    "    track['loudness'] = float(track['loudness'])\n",
    "    track['speechiness'] = float(track['speechiness'])\n",
    "    track['acousticness'] = float(track['acousticness'])\n",
    "    track['instrumentalness'] = float(track['instrumentalness'])\n",
    "    track['liveness'] = float(track['liveness'])\n",
    "    track['valence'] = float(track['valence'])\n",
    "    track['tempo'] = float(track['tempo'])\n",
    "    track['duration_ms'] = int(track['duration_ms'])\n",
    "\n",
    "# list of continuous features in our dataset\n",
    "continuous_features = [\n",
    "    'danceability', 'energy', 'loudness', 'speechiness', 'acousticness',\n",
    "    'instrumentalness', 'liveness', 'valence', 'tempo', 'duration_ms'\n",
    "]\n",
    "\n",
    "features_df = pd.DataFrame([{\n",
    "    feat: track[feat] for feat in continuous_features\n",
    "} for track in data])\n",
    "\n",
    "# apply a standard scalar for normalization\n",
    "scaler = StandardScaler() \n",
    "scaled_features = scaler.fit_transform(features_df)\n",
    "\n",
    "# replacing data with normalization applied\n",
    "for idx, track in enumerate(data):\n",
    "    for i, feat in enumerate(continuous_features):\n",
    "        track[feat] = scaled_features[idx][i]\n",
    "\n",
    "# for track in data:\n",
    "#     track['duration_ms'] = np.log1p(track['duration_ms'])  # log(x+1) to avoid log(0)\n",
    "#     track['loudness'] = np.log1p(abs(track['loudness'])) * np.sign(track['loudness'])"
   ]
  },
  {
   "cell_type": "code",
   "execution_count": null,
   "metadata": {},
   "outputs": [
    {
     "name": "stdout",
     "output_type": "stream",
     "text": [
      "[]\n"
     ]
    }
   ],
   "source": [
    "import csv\n",
    "\n",
    "# Function to flatten the dictionary\n",
    "def flatten_dict(d, parent_key='', sep='_'):\n",
    "    items = []\n",
    "    for k, v in d.items():\n",
    "        new_key = f\"{parent_key}{sep}{k}\" if parent_key else k\n",
    "        if isinstance(v, dict):  # Recursively flatten nested dictionaries\n",
    "            items.extend(flatten_dict(v, new_key, sep=sep).items())\n",
    "        else:\n",
    "            items.append((new_key, v))\n",
    "    return dict(items)\n",
    "\n",
    "# Flatten each dictionary in the list\n",
    "flattened_data = []\n",
    "\n",
    "for item in data:\n",
    "    flattened_item = flatten_dict(item)\n",
    "    flattened_data.append(flattened_item)\n",
    "\n",
    "print(type(flattened_data[0]))\n",
    "\n",
    "# # Get the fieldnames from the keys of the first flattened dictionary\n",
    "# fieldnames = flattened_data[0].keys()\n",
    "\n",
    "# # Write the flattened data to CSV\n",
    "# with open('tracks.csv', 'w', newline='', encoding='utf-8') as csvfile:\n",
    "#     writer = csv.DictWriter(csvfile, fieldnames=fieldnames)\n",
    "#     writer.writeheader()  # Write the header\n",
    "#     writer.writerows(flattened_data)  # Write the data\n",
    "\n",
    "# print(\"Data written to 'tracks.csv'\")"
   ]
  }
 ],
 "metadata": {
  "kernelspec": {
   "display_name": "Python 3",
   "language": "python",
   "name": "python3"
  },
  "language_info": {
   "codemirror_mode": {
    "name": "ipython",
    "version": 3
   },
   "file_extension": ".py",
   "mimetype": "text/x-python",
   "name": "python",
   "nbconvert_exporter": "python",
   "pygments_lexer": "ipython3",
   "version": "3.11.4"
  }
 },
 "nbformat": 4,
 "nbformat_minor": 2
}

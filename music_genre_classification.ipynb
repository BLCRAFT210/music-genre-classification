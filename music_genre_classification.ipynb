{
 "cells": [
  {
   "cell_type": "markdown",
   "metadata": {},
   "source": [
    "Import data"
   ]
  },
  {
   "cell_type": "code",
   "metadata": {
    "ExecuteTime": {
     "end_time": "2025-04-29T20:27:42.222183Z",
     "start_time": "2025-04-29T20:27:41.491417Z"
    }
   },
   "source": [
    "import requests\n",
    "import csv"
   ],
   "outputs": [],
   "execution_count": 5
  },
  {
   "cell_type": "code",
   "metadata": {
    "ExecuteTime": {
     "end_time": "2025-04-29T20:27:43.306928Z",
     "start_time": "2025-04-29T20:27:42.241920Z"
    }
   },
   "source": [
    "URL = 'https://raw.githubusercontent.com/rfordatascience/tidytuesday/master/data/2020/2020-01-21/spotify_songs.csv'\n",
    "response = requests.get(URL)\n",
    "response.raise_for_status()\n",
    "\n",
    "columns = ['track_id', 'track_name', 'track_artist', 'playlist_genre', 'playlist_subgenre', 'danceability', 'energy', 'key', 'loudness', 'mode', 'speechiness', 'acousticness', 'instrumentalness', 'liveness', 'valence', 'tempo', 'duration_ms']\n",
    "\n",
    "data = response.text.splitlines()\n",
    "data = csv.DictReader(data)\n",
    "data = [{k: v for k, v in row.items() if k in columns} for row in data]\n",
    "#data[:5]"
   ],
   "outputs": [],
   "execution_count": 6
  },
  {
   "cell_type": "markdown",
   "metadata": {},
   "source": [
    "Data Preprocessing"
   ]
  },
  {
   "cell_type": "code",
   "metadata": {
    "ExecuteTime": {
     "end_time": "2025-04-29T20:27:47.237232Z",
     "start_time": "2025-04-29T20:27:43.330556Z"
    }
   },
   "source": [
    "# create a one hot encoding for the playlist_genre and playlist_subgenre columns\n",
    "playlist_genre = set(row['playlist_genre'] for row in data)\n",
    "playlist_subgenre = set(row['playlist_subgenre'] for row in data)\n",
    "\n",
    "for row in data:\n",
    "    row['label'] = {}\n",
    "\n",
    "for genre in playlist_genre:\n",
    "    for subgenre in playlist_subgenre:\n",
    "        column_name = f'{genre}_{subgenre}'\n",
    "        for row in data:\n",
    "            row['label'][column_name] = int(row['playlist_genre'] == genre and row['playlist_subgenre'] == subgenre)\n",
    "\n",
    "# remove the original playlist_genre and playlist_subgenre columns\n",
    "for row in data:\n",
    "    del row['playlist_genre']\n",
    "    del row['playlist_subgenre']\n",
    "\n",
    "# remove any columns that are all zeros\n",
    "columns_to_remove = set()\n",
    "for column in data[0]['label']:\n",
    "    if all(row['label'][column] == 0 for row in data):\n",
    "        columns_to_remove.add(column)\n",
    "\n",
    "for row in data:\n",
    "    for column in columns_to_remove:\n",
    "        del row['label'][column]\n",
    "\n",
    "print(data[0])\n",
    "print(f'Number of subgenres: {len(data[0][\"label\"])}')"
   ],
   "outputs": [
    {
     "name": "stdout",
     "output_type": "stream",
     "text": [
      "{'track_id': '6f807x0ima9a1j3VPbc7VN', 'track_name': \"I Don't Care (with Justin Bieber) - Loud Luxury Remix\", 'track_artist': 'Ed Sheeran', 'danceability': '0.748', 'energy': '0.916', 'key': '6', 'loudness': '-2.634', 'mode': '1', 'speechiness': '0.0583', 'acousticness': '0.102', 'instrumentalness': '0', 'liveness': '0.0653', 'valence': '0.518', 'tempo': '122.036', 'duration_ms': '194754', 'label': {'r&b_neo soul': 0, 'r&b_urban contemporary': 0, 'r&b_hip pop': 0, 'r&b_new jack swing': 0, 'latin_latin hip hop': 0, 'latin_reggaeton': 0, 'latin_tropical': 0, 'latin_latin pop': 0, 'edm_progressive electro house': 0, 'edm_electro house': 0, 'edm_big room': 0, 'edm_pop edm': 0, 'pop_indie poptimism': 0, 'pop_post-teen pop': 0, 'pop_dance pop': 1, 'pop_electropop': 0, 'rock_album rock': 0, 'rock_classic rock': 0, 'rock_permanent wave': 0, 'rock_hard rock': 0, 'rap_trap': 0, 'rap_hip hop': 0, 'rap_southern hip hop': 0, 'rap_gangster rap': 0}}\n",
      "Number of subgenres: 24\n"
     ]
    }
   ],
   "execution_count": 7
  },
  {
   "cell_type": "code",
   "metadata": {
    "ExecuteTime": {
     "end_time": "2025-04-29T20:27:47.411325Z",
     "start_time": "2025-04-29T20:27:47.266833Z"
    }
   },
   "source": [
    "# create a one hot encoding for the key and mode columns\n",
    "key = set(row['key'] for row in data)\n",
    "mode = set(row['mode'] for row in data)\n",
    "\n",
    "for k in key:\n",
    "    column_name = f'key_{k}'\n",
    "    for row in data:\n",
    "        row[column_name] = int(row['key'] == k)\n",
    "\n",
    "for m in mode:\n",
    "    column_name = f'mode_{m}'\n",
    "    for row in data:\n",
    "        row[column_name] = int(row['mode'] == m)\n",
    "\n",
    "# remove the original key and mode columns\n",
    "for row in data:\n",
    "    del row['key']\n",
    "    del row['mode']"
   ],
   "outputs": [],
   "execution_count": 8
  },
  {
   "cell_type": "markdown",
   "metadata": {},
   "source": [
    "Feature engineering: normalization of continuous properties of songs"
   ]
  },
  {
   "cell_type": "code",
   "metadata": {
    "ExecuteTime": {
     "end_time": "2025-04-29T20:27:48.619170Z",
     "start_time": "2025-04-29T20:27:47.461792Z"
    }
   },
   "source": [
    "from sklearn.preprocessing import StandardScaler, OneHotEncoder\n",
    "import pandas as pd\n",
    "import numpy as np\n",
    "\n",
    "# Convert all continuous features to numeric\n",
    "for track in data:\n",
    "    track['danceability'] = float(track['danceability'])\n",
    "    track['energy'] = float(track['energy'])\n",
    "    track['loudness'] = float(track['loudness'])\n",
    "    track['speechiness'] = float(track['speechiness'])\n",
    "    track['acousticness'] = float(track['acousticness'])\n",
    "    track['instrumentalness'] = float(track['instrumentalness'])\n",
    "    track['liveness'] = float(track['liveness'])\n",
    "    track['valence'] = float(track['valence'])\n",
    "    track['tempo'] = float(track['tempo'])\n",
    "    track['duration_ms'] = int(track['duration_ms'])\n",
    "\n",
    "# List of continuous features in our dataset\n",
    "continuous_features = [\n",
    "    'danceability', 'energy', 'loudness', 'speechiness', 'acousticness',\n",
    "    'instrumentalness', 'liveness', 'valence', 'tempo', 'duration_ms'\n",
    "]\n",
    "\n",
    "# --- Feature Engineering ---\n",
    "for track in data:\n",
    "    # Basic Interactions\n",
    "    track['energy_dance'] = track['energy'] * track['danceability']\n",
    "    track['tempo_energy'] = track['tempo'] * track['energy']\n",
    "    track['acoustic_instrument'] = track['acousticness'] * track['instrumentalness']\n",
    "    track['valence_energy'] = track['valence'] * track['energy']\n",
    "    \n",
    "    # Time-based features\n",
    "    track['duration_min'] = track['duration_ms'] / 60000\n",
    "    track['loudness_per_min'] = track['loudness'] / (track['duration_min'] + 1e-6)\n",
    "    \n",
    "    # Log transforms\n",
    "    track['log_duration'] = np.log1p(track['duration_ms'])\n",
    "    track['log_loudness'] = np.log1p(abs(track['loudness'])) * np.sign(track['loudness'])\n",
    "    track['log_instrumentalness'] = np.log1p(track['instrumentalness'])\n",
    "    \n",
    "    # Ratios\n",
    "    track['energy_loudness_ratio'] = track['energy'] / (abs(track['loudness']) + 1e-6)\n",
    "    track['valence_minus_energy'] = track['valence'] - track['energy']\n",
    "    track['dance_tempo_ratio'] = track['danceability'] / (track['tempo'] + 1e-6)\n",
    "    track['acoustic_instrument_ratio'] = track['acousticness'] / (track['instrumentalness'] + 1e-6)\n",
    "    track['speech_to_instrument_ratio'] = track['speechiness'] / (track['instrumentalness'] + 1e-6)\n",
    "    \n",
    "    # Polynomial features\n",
    "    track['energy_squared'] = track['energy'] ** 2\n",
    "    track['tempo_squared'] = (track['tempo'] / 200.0) ** 2\n",
    "    track['valence_squared'] = track['valence'] ** 2\n",
    "    track['danceability_squared'] = track['danceability'] ** 2\n",
    "    \n",
    "    # Complex interactions\n",
    "    track['dance_energy_tempo'] = track['danceability'] * track['energy'] * (track['tempo'] / 200.0)\n",
    "    track['valence_energy_loudness'] = track['valence'] * track['energy'] * (track['loudness'] / -60.0)\n",
    "    track['acoustic_speech_live'] = track['acousticness'] * track['speechiness'] * track['liveness']\n",
    "\n",
    "# Add new continuous features to the list\n",
    "continuous_features += [\n",
    "    # Basic interactions\n",
    "    'energy_dance', 'tempo_energy', 'acoustic_instrument', 'valence_energy',\n",
    "    'duration_min', 'loudness_per_min',\n",
    "    # Log transforms\n",
    "    'log_duration', 'log_loudness', 'log_instrumentalness',\n",
    "    # Ratios and differences\n",
    "    'energy_loudness_ratio', 'valence_minus_energy', 'dance_tempo_ratio',\n",
    "    'acoustic_instrument_ratio', 'speech_to_instrument_ratio',\n",
    "    # Polynomial features\n",
    "    'energy_squared', 'tempo_squared', 'valence_squared', 'danceability_squared',\n",
    "    # Complex interactions\n",
    "    'dance_energy_tempo', 'valence_energy_loudness', 'acoustic_speech_live'\n",
    "]\n",
    "\n",
    "# Build the final features DataFrame\n",
    "features_df = pd.DataFrame([{feat: track[feat] for feat in continuous_features} for track in data])\n",
    "\n",
    "# Normalize all features\n",
    "scaler = StandardScaler()\n",
    "scaled_features = scaler.fit_transform(features_df)\n",
    "\n",
    "# Replace data with normalized engineered features\n",
    "final_feature_names = list(features_df.columns)\n",
    "for idx, track in enumerate(data):\n",
    "    for i, feat in enumerate(final_feature_names):\n",
    "        track[feat] = scaled_features[idx][i]"
   ],
   "outputs": [],
   "execution_count": 9
  },
  {
   "cell_type": "code",
   "metadata": {
    "ExecuteTime": {
     "end_time": "2025-04-29T20:27:50.741410Z",
     "start_time": "2025-04-29T20:27:48.628153Z"
    }
   },
   "source": [
    "import csv\n",
    "\n",
    "# Function to flatten the dictionary\n",
    "def flatten_dict(d, parent_key='', sep='_'):\n",
    "    items = []\n",
    "    for k, v in d.items():\n",
    "        new_key = f\"{parent_key}{sep}{k}\" if parent_key else k\n",
    "        if isinstance(v, dict):  # Recursively flatten nested dictionaries\n",
    "            items.extend(flatten_dict(v, new_key, sep=sep).items())\n",
    "        else:\n",
    "            items.append((new_key, v))\n",
    "    return dict(items)\n",
    "\n",
    "# Flatten each dictionary in the list\n",
    "flattened_data = []\n",
    "\n",
    "for item in data:\n",
    "    flattened_item = flatten_dict(item)\n",
    "    flattened_data.append(flattened_item)\n",
    "\n",
    "print(type(flattened_data[0]))\n",
    "\n",
    "# Get the fieldnames from the keys of the first flattened dictionary\n",
    "fieldnames = flattened_data[0].keys()\n",
    "\n",
    "# Write the flattened data to CSV\n",
    "with open('tracks.csv', 'w', newline='', encoding='utf-8') as csvfile:\n",
    "    writer = csv.DictWriter(csvfile, fieldnames=fieldnames)\n",
    "    writer.writeheader()  # Write the header\n",
    "    writer.writerows(flattened_data)  # Write the data\n",
    "\n",
    "print(\"Data written to 'tracks.csv'\")"
   ],
   "outputs": [
    {
     "name": "stdout",
     "output_type": "stream",
     "text": [
      "<class 'dict'>\n",
      "Data written to 'tracks.csv'\n"
     ]
    }
   ],
   "execution_count": 10
  },
  {
   "metadata": {
    "ExecuteTime": {
     "end_time": "2025-04-29T20:28:24.682963Z",
     "start_time": "2025-04-29T20:28:22.800446Z"
    }
   },
   "cell_type": "code",
   "source": [
    "import csv\n",
    "from collections import Counter\n",
    "\n",
    "# Function to flatten the dictionary\n",
    "def flatten_dict(d, parent_key='', sep='_'):\n",
    "    items = []\n",
    "    for k, v in d.items():\n",
    "        new_key = f\"{parent_key}{sep}{k}\" if parent_key else k\n",
    "        if isinstance(v, dict):\n",
    "            items.extend(flatten_dict(v, new_key, sep=sep).items())\n",
    "        else:\n",
    "            items.append((new_key, v))\n",
    "    return dict(items)\n",
    "\n",
    "# Flatten each dictionary in the list\n",
    "flattened_data = []\n",
    "for item in data:\n",
    "    flattened_item = flatten_dict(item)\n",
    "    flattened_data.append(flattened_item)\n",
    "\n",
    "# Remove duplicates by track_name (only keep first occurrence)\n",
    "unique_data = []\n",
    "seen = set()\n",
    "for item in flattened_data:\n",
    "    track_name = item.get('track_name')\n",
    "    if track_name and track_name not in seen:\n",
    "        seen.add(track_name)\n",
    "        unique_data.append(item)\n",
    "\n",
    "# Get the fieldnames from the keys of the first unique dictionary\n",
    "fieldnames = unique_data[0].keys()\n",
    "\n",
    "# Write the unique data to CSV\n",
    "with open('no_dupe_tracks.csv', 'w', newline='', encoding='utf-8') as csvfile:\n",
    "    writer = csv.DictWriter(csvfile, fieldnames=fieldnames)\n",
    "    writer.writeheader()\n",
    "    writer.writerows(unique_data)\n",
    "\n",
    "print(\"Data written to 'no_dupe_tracks.csv' without duplicates\")"
   ],
   "outputs": [
    {
     "name": "stdout",
     "output_type": "stream",
     "text": [
      "Data written to 'no_dupe_tracks.csv' without duplicates\n"
     ]
    }
   ],
   "execution_count": 12
  }
 ],
 "metadata": {
  "kernelspec": {
   "display_name": "Python 3",
   "language": "python",
   "name": "python3"
  },
  "language_info": {
   "codemirror_mode": {
    "name": "ipython",
    "version": 3
   },
   "file_extension": ".py",
   "mimetype": "text/x-python",
   "name": "python",
   "nbconvert_exporter": "python",
   "pygments_lexer": "ipython3",
   "version": "3.12.5"
  }
 },
 "nbformat": 4,
 "nbformat_minor": 2
}

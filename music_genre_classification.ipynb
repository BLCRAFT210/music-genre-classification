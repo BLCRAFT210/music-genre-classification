{
 "cells": [
  {
   "cell_type": "markdown",
   "metadata": {},
   "source": [
    "Import data"
   ]
  },
  {
   "cell_type": "code",
   "execution_count": 1,
   "metadata": {},
   "outputs": [],
   "source": [
    "import requests\n",
    "import csv"
   ]
  },
  {
   "cell_type": "code",
   "execution_count": 5,
   "metadata": {},
   "outputs": [],
   "source": [
    "URL = 'https://raw.githubusercontent.com/rfordatascience/tidytuesday/master/data/2020/2020-01-21/spotify_songs.csv'\n",
    "response = requests.get(URL)\n",
    "response.raise_for_status()\n",
    "\n",
    "columns = ['track_id', 'track_name', 'track_artist', 'playlist_genre', 'playlist_subgenre', 'danceability', 'energy', 'key', 'loudness', 'mode', 'speechiness', 'acousticness', 'instrumentalness', 'liveness', 'valence', 'tempo', 'duration_ms']\n",
    "\n",
    "data = response.text.splitlines()\n",
    "data = csv.DictReader(data)\n",
    "data = [{k: v for k, v in row.items() if k in columns} for row in data]\n",
    "#data[:5]"
   ]
  },
  {
   "cell_type": "markdown",
   "metadata": {},
   "source": [
    "Data Preprocessing"
   ]
  },
  {
   "cell_type": "code",
   "execution_count": 6,
   "metadata": {},
   "outputs": [
    {
     "name": "stdout",
     "output_type": "stream",
     "text": [
      "{'track_id': '6f807x0ima9a1j3VPbc7VN', 'track_name': \"I Don't Care (with Justin Bieber) - Loud Luxury Remix\", 'track_artist': 'Ed Sheeran', 'danceability': '0.748', 'energy': '0.916', 'key': '6', 'loudness': '-2.634', 'mode': '1', 'speechiness': '0.0583', 'acousticness': '0.102', 'instrumentalness': '0', 'liveness': '0.0653', 'valence': '0.518', 'tempo': '122.036', 'duration_ms': '194754', 'label': {'latin_tropical': 0, 'latin_latin pop': 0, 'latin_reggaeton': 0, 'latin_latin hip hop': 0, 'pop_post-teen pop': 0, 'pop_electropop': 0, 'pop_indie poptimism': 0, 'pop_dance pop': 1, 'rock_hard rock': 0, 'rock_album rock': 0, 'rock_permanent wave': 0, 'rock_classic rock': 0, 'edm_electro house': 0, 'edm_big room': 0, 'edm_progressive electro house': 0, 'edm_pop edm': 0, 'rap_southern hip hop': 0, 'rap_hip hop': 0, 'rap_trap': 0, 'rap_gangster rap': 0, 'r&b_neo soul': 0, 'r&b_urban contemporary': 0, 'r&b_hip pop': 0, 'r&b_new jack swing': 0}}\n",
      "Number of subgenres: 24\n"
     ]
    }
   ],
   "source": [
    "# create a one hot encoding for the playlist_genre and playlist_subgenre columns\n",
    "playlist_genre = set(row['playlist_genre'] for row in data)\n",
    "playlist_subgenre = set(row['playlist_subgenre'] for row in data)\n",
    "\n",
    "for row in data:\n",
    "    row['label'] = {}\n",
    "\n",
    "for genre in playlist_genre:\n",
    "    for subgenre in playlist_subgenre:\n",
    "        column_name = f'{genre}_{subgenre}'\n",
    "        for row in data:\n",
    "            row['label'][column_name] = int(row['playlist_genre'] == genre and row['playlist_subgenre'] == subgenre)\n",
    "\n",
    "# remove the original playlist_genre and playlist_subgenre columns\n",
    "for row in data:\n",
    "    del row['playlist_genre']\n",
    "    del row['playlist_subgenre']\n",
    "\n",
    "# remove any columns that are all zeros\n",
    "columns_to_remove = set()\n",
    "for column in data[0]['label']:\n",
    "    if all(row['label'][column] == 0 for row in data):\n",
    "        columns_to_remove.add(column)\n",
    "\n",
    "for row in data:\n",
    "    for column in columns_to_remove:\n",
    "        del row['label'][column]\n",
    "\n",
    "print(data[0])\n",
    "print(f'Number of subgenres: {len(data[0][\"label\"])}')"
   ]
  },
  {
   "cell_type": "code",
   "execution_count": 7,
   "metadata": {},
   "outputs": [],
   "source": [
    "# create a one hot encoding for the key and mode columns\n",
    "key = set(row['key'] for row in data)\n",
    "mode = set(row['mode'] for row in data)\n",
    "\n",
    "for k in key:\n",
    "    column_name = f'key_{k}'\n",
    "    for row in data:\n",
    "        row[column_name] = int(row['key'] == k)\n",
    "\n",
    "for m in mode:\n",
    "    column_name = f'mode_{m}'\n",
    "    for row in data:\n",
    "        row[column_name] = int(row['mode'] == m)\n",
    "\n",
    "# remove the original key and mode columns\n",
    "for row in data:\n",
    "    del row['key']\n",
    "    del row['mode']"
   ]
  },
  {
   "cell_type": "markdown",
   "metadata": {},
   "source": [
    "Feature engineering: normalization of continuous properties of songs"
   ]
  },
  {
   "cell_type": "code",
   "execution_count": 8,
   "metadata": {},
   "outputs": [],
   "source": [
    "from sklearn.preprocessing import StandardScaler, MinMaxScaler\n",
    "import pandas as pd\n",
    "import numpy as np\n",
    "\n",
    "for track in data:\n",
    "    track['danceability'] = float(track['danceability'])\n",
    "    track['energy'] = float(track['energy'])\n",
    "    track['loudness'] = float(track['loudness'])\n",
    "    track['speechiness'] = float(track['speechiness'])\n",
    "    track['acousticness'] = float(track['acousticness'])\n",
    "    track['instrumentalness'] = float(track['instrumentalness'])\n",
    "    track['liveness'] = float(track['liveness'])\n",
    "    track['valence'] = float(track['valence'])\n",
    "    track['tempo'] = float(track['tempo'])\n",
    "    track['duration_ms'] = int(track['duration_ms'])\n",
    "\n",
    "# list of continuous features in our dataset\n",
    "continuous_features = [\n",
    "    'danceability', 'energy', 'loudness', 'speechiness', 'acousticness',\n",
    "    'instrumentalness', 'liveness', 'valence', 'tempo', 'duration_ms'\n",
    "]\n",
    "\n",
    "features_df = pd.DataFrame([{\n",
    "    feat: track[feat] for feat in continuous_features\n",
    "} for track in data])\n",
    "\n",
    "# apply a standard scalar for normalization\n",
    "scaler = StandardScaler() \n",
    "scaled_features = scaler.fit_transform(features_df)\n",
    "\n",
    "# replacing data with normalization applied\n",
    "for idx, track in enumerate(data):\n",
    "    for i, feat in enumerate(continuous_features):\n",
    "        track[feat] = scaled_features[idx][i]\n",
    "\n",
    "# for track in data:\n",
    "#     track['duration_ms'] = np.log1p(track['duration_ms'])  # log(x+1) to avoid log(0)\n",
    "#     track['loudness'] = np.log1p(abs(track['loudness'])) * np.sign(track['loudness'])"
   ]
  },
  {
   "cell_type": "code",
   "execution_count": 9,
   "metadata": {},
   "outputs": [
    {
     "name": "stdout",
     "output_type": "stream",
     "text": [
      "<class 'dict'>\n"
     ]
    }
   ],
   "source": [
    "import csv\n",
    "\n",
    "# Function to flatten the dictionary\n",
    "def flatten_dict(d, parent_key='', sep='_'):\n",
    "    items = []\n",
    "    for k, v in d.items():\n",
    "        new_key = f\"{parent_key}{sep}{k}\" if parent_key else k\n",
    "        if isinstance(v, dict):  # Recursively flatten nested dictionaries\n",
    "            items.extend(flatten_dict(v, new_key, sep=sep).items())\n",
    "        else:\n",
    "            items.append((new_key, v))\n",
    "    return dict(items)\n",
    "\n",
    "# Flatten each dictionary in the list\n",
    "flattened_data = []\n",
    "\n",
    "for item in data:\n",
    "    flattened_item = flatten_dict(item)\n",
    "    flattened_data.append(flattened_item)\n",
    "\n",
    "print(type(flattened_data[0]))\n",
    "\n",
    "# # Get the fieldnames from the keys of the first flattened dictionary\n",
    "# fieldnames = flattened_data[0].keys()\n",
    "\n",
    "# # Write the flattened data to CSV\n",
    "# with open('tracks.csv', 'w', newline='', encoding='utf-8') as csvfile:\n",
    "#     writer = csv.DictWriter(csvfile, fieldnames=fieldnames)\n",
    "#     writer.writeheader()  # Write the header\n",
    "#     writer.writerows(flattened_data)  # Write the data\n",
    "\n",
    "# print(\"Data written to 'tracks.csv'\")"
   ]
  }
 ],
 "metadata": {
  "kernelspec": {
   "display_name": "Python 3",
   "language": "python",
   "name": "python3"
  },
  "language_info": {
   "codemirror_mode": {
    "name": "ipython",
    "version": 3
   },
   "file_extension": ".py",
   "mimetype": "text/x-python",
   "name": "python",
   "nbconvert_exporter": "python",
   "pygments_lexer": "ipython3",
   "version": "3.12.5"
  }
 },
 "nbformat": 4,
 "nbformat_minor": 2
}

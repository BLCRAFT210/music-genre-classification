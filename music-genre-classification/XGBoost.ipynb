{
 "cells": [
  {
   "metadata": {},
   "cell_type": "code",
   "outputs": [],
   "execution_count": null,
   "source": [
    "import pandas as pd\n",
    "import numpy as np\n",
    "from sklearn.model_selection import train_test_split, RandomizedSearchCV\n",
    "from sklearn.preprocessing import LabelEncoder\n",
    "from sklearn.metrics import accuracy_score, classification_report, confusion_matrix\n",
    "import matplotlib.pyplot as plt\n",
    "import seaborn as sns\n",
    "import joblib\n",
    "import xgboost as xgb"
   ],
   "id": "ce16c81a3a4bd1ba"
  },
  {
   "metadata": {},
   "cell_type": "code",
   "outputs": [],
   "execution_count": null,
   "source": [
    "# Read the CSV file\n",
    "df = pd.read_csv('../tracks.csv')\n",
    "\n",
    "# Drop unnecessary feature columns\n",
    "features = df.drop(columns=[col for col in df.columns if col.startswith('label_')])\n",
    "features = features.drop(columns=['track_id', 'track_name', 'track_artist'])\n",
    "\n",
    "# Extract labels (main genre only)\n",
    "labels_main_only = df[[col for col in df.columns if col.startswith('label_')]]\n",
    "labels_main_only = labels_main_only.idxmax(axis=1).apply(lambda x: x.replace('label_', '').split('_')[0])\n",
    "\n",
    "# Extract labels (main + subgenre)\n",
    "labels_main_and_sub = df[[col for col in df.columns if col.startswith('label_')]]\n",
    "labels_main_and_sub = labels_main_and_sub.idxmax(axis=1).apply(lambda x: x.replace('label_', ''))"
   ],
   "id": "998f22d938e6b534"
  },
  {
   "metadata": {},
   "cell_type": "code",
   "outputs": [],
   "execution_count": null,
   "source": [
    "main_genre_encoder = LabelEncoder()\n",
    "main_encoded = main_genre_encoder.fit_transform(labels_main_only)\n",
    "\n",
    "sub_genre_encoder = LabelEncoder()\n",
    "sub_encoded = sub_genre_encoder.fit_transform(labels_main_and_sub)\n",
    "\n",
    "X = features.copy()\n",
    "X_train_main, X_test_main, y_train_main, y_test_main = train_test_split(X, main_encoded, test_size=0.2, random_state=42)\n",
    "X_train_sub, X_test_sub, y_train_sub, y_test_sub = train_test_split(X, sub_encoded, test_size=0.2, random_state=42)"
   ],
   "id": "bbd5ff0d25c4c685"
  },
  {
   "metadata": {},
   "cell_type": "code",
   "outputs": [],
   "execution_count": null,
   "source": [
    "from xgboost import XGBClassifier\n",
    "from sklearn.model_selection import StratifiedKFold, RandomizedSearchCV\n",
    "from scipy.stats import uniform, randint\n",
    "\n",
    "param_dist = {\n",
    "    \"n_estimators\":      randint(150, 450),\n",
    "    \"max_depth\":         randint(3, 9),\n",
    "    \"learning_rate\":     uniform(0.03, 0.17),\n",
    "    \"subsample\":         uniform(0.7, 0.3),\n",
    "    \"colsample_bytree\":  uniform(0.7, 0.3),\n",
    "    \"gamma\":             uniform(0, 5),\n",
    "    \"min_child_weight\":  uniform(0, 5),\n",
    "    \"reg_alpha\":         uniform(0, 2),\n",
    "    \"reg_lambda\":        uniform(0.5, 4.5),\n",
    "    \"scale_pos_weight\":  uniform(0.8, 4.2),\n",
    "}\n",
    "\n",
    "clf = XGBClassifier(\n",
    "    tree_method=\"gpu_hist\",\n",
    "    n_jobs=-1,\n",
    "    random_state=42\n",
    ")\n",
    "\n",
    "cv = StratifiedKFold(n_splits=5, shuffle=True, random_state=42)  # keeps class balance\n",
    "\n",
    "search = RandomizedSearchCV(\n",
    "    estimator=clf,\n",
    "    param_distributions=param_dist,\n",
    "    n_iter=25,\n",
    "    cv=cv,\n",
    "    scoring=\"roc_auc\",\n",
    "    n_jobs=-1,\n",
    "    verbose=1,\n",
    "    error_score=\"raise\"        # optional: crash instead of filling nan\n",
    ")\n",
    "\n",
    "search.fit(X_train_main, y_train_main)\n"
   ],
   "id": "8f6ebfc7a78ca0ea"
  },
  {
   "metadata": {},
   "cell_type": "code",
   "outputs": [],
   "execution_count": null,
   "source": "",
   "id": "16ae66a8bc40a58c"
  },
  {
   "metadata": {},
   "cell_type": "code",
   "outputs": [],
   "execution_count": null,
   "source": "",
   "id": "93a930e6740eef2e"
  },
  {
   "metadata": {},
   "cell_type": "code",
   "outputs": [],
   "execution_count": null,
   "source": [
    "model_main = train_and_evaluate(X_train_main, X_test_main, y_train_main, y_test_main, main_genre_encoder, \"Main Genre (XGBoost)\")\n",
    "\n",
    "model_sub = train_and_evaluate(X_train_sub, X_test_sub, y_train_sub, y_test_sub, sub_genre_encoder,\"Main + Subgenre (XGBoost)\")\n",
    "\n"
   ],
   "id": "31052a48a419fac0"
  }
 ],
 "metadata": {},
 "nbformat": 5,
 "nbformat_minor": 9
}

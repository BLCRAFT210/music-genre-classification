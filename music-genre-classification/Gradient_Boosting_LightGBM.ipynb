{
 "cells": [
  {
   "cell_type": "code",
   "metadata": {},
   "source": [
    "import pandas as pd\n",
    "import numpy as np\n",
    "from sklearn.model_selection import train_test_split, RandomizedSearchCV\n",
    "from sklearn.preprocessing import LabelEncoder\n",
    "from sklearn.metrics import accuracy_score, classification_report, confusion_matrix\n",
    "import matplotlib.pyplot as plt\n",
    "import seaborn as sns\n",
    "import joblib\n",
    "import lightgbm as lgb"
   ],
   "outputs": [],
   "execution_count": null
  },
  {
   "cell_type": "code",
   "metadata": {},
   "source": [
    "# Read the CSV file\n",
    "df = pd.read_csv('../tracks.csv')\n",
    "\n",
    "# Drop unnecessary feature columns\n",
    "features = df.drop(columns=[col for col in df.columns if col.startswith('label_')])\n",
    "features = features.drop(columns=['track_id', 'track_name', 'track_artist'])\n",
    "\n",
    "# Extract labels (main genre only)\n",
    "labels_main_only = df[[col for col in df.columns if col.startswith('label_')]]\n",
    "labels_main_only = labels_main_only.idxmax(axis=1).apply(lambda x: x.replace('label_', '').split('_')[0])\n",
    "\n",
    "# Extract labels (main + subgenre)\n",
    "labels_main_and_sub = df[[col for col in df.columns if col.startswith('label_')]]\n",
    "labels_main_and_sub = labels_main_and_sub.idxmax(axis=1).apply(lambda x: x.replace('label_', ''))"
   ],
   "outputs": [],
   "execution_count": null
  },
  {
   "cell_type": "code",
   "metadata": {},
   "source": [
    "main_genre_encoder = LabelEncoder()\n",
    "main_encoded = main_genre_encoder.fit_transform(labels_main_only)\n",
    "\n",
    "sub_genre_encoder = LabelEncoder()\n",
    "sub_encoded = sub_genre_encoder.fit_transform(labels_main_and_sub)\n",
    "\n",
    "X = features.copy()\n",
    "X_train_main, X_test_main, y_train_main, y_test_main = train_test_split(X, main_encoded, test_size=0.2, random_state=42)\n",
    "X_train_sub, X_test_sub, y_train_sub, y_test_sub = train_test_split(X, sub_encoded, test_size=0.2, random_state=42)"
   ],
   "outputs": [],
   "execution_count": null
  },
  {
   "cell_type": "code",
   "metadata": {},
   "source": [
    "param_grid = {\n",
    "    'max_depth': [3, 5, 7],\n",
    "    'learning_rate': [0.01, 0.05, 0.1],\n",
    "    'n_estimators': [100, 200],\n",
    "    'min_child_samples': [5, 10],\n",
    "    'subsample': [0.6, 0.8, 1.0],\n",
    "    'colsample_bytree': [0.6, 0.8],\n",
    "    'reg_alpha': [0, 0.1],\n",
    "    'reg_lambda': [0.5, 1.0]\n",
    "}"
   ],
   "outputs": [],
   "execution_count": null
  },
  {
   "cell_type": "code",
   "metadata": {},
   "source": [
    "from sklearn.metrics import classification_report, accuracy_score, confusion_matrix\n",
    "\n",
    "def train_and_evaluate(X_train, X_test, y_train, y_test, label_encoder, model_name):\n",
    "    # Train with hyperparameter search\n",
    "    model = lgb.LGBMClassifier(objective='multiclass', random_state=42, device='gpu')\n",
    "    search = RandomizedSearchCV(model, param_grid, n_iter=20, cv=3, scoring='accuracy', n_jobs=-1, random_state=42)\n",
    "    search.fit(X_train, y_train)\n",
    "    best_model = search.best_estimator_\n",
    "\n",
    "    # Predict\n",
    "    y_pred = best_model.predict(X_test)\n",
    "\n",
    "    # Print header\n",
    "    print(f\"\\n===== {model_name} Tuned Classification Report =====\")\n",
    "\n",
    "    # Print scikit-learn classic report\n",
    "    print(classification_report(\n",
    "        y_test, y_pred, target_names=label_encoder.classes_, digits=2\n",
    "    ))\n",
    "\n",
    "    # Accuracy separately\n",
    "    acc = accuracy_score(y_test, y_pred)\n",
    "    print(f\"Overall Accuracy: {acc:.4f}\")\n",
    "\n",
    "    # Confusion matrix\n",
    "    cm = confusion_matrix(y_test, y_pred)\n",
    "    plt.figure(figsize=(10, 6))\n",
    "    sns.heatmap(cm, annot=True, fmt='d', xticklabels=label_encoder.classes_, yticklabels=label_encoder.classes_)\n",
    "    plt.title(f\"{model_name} - Confusion Matrix\")\n",
    "    plt.xlabel('Predicted')\n",
    "    plt.ylabel('True')\n",
    "    plt.tight_layout()\n",
    "    plt.show()\n",
    "\n",
    "    return best_model\n"
   ],
   "outputs": [],
   "execution_count": null
  },
  {
   "cell_type": "code",
   "metadata": {},
   "source": [
    "model_main = train_and_evaluate(X_train_main, X_test_main, y_train_main, y_test_main, main_genre_encoder, \"Main Genre (LightGBM)\")\n",
    "\n",
    "model_sub = train_and_evaluate(X_train_sub, X_test_sub, y_train_sub, y_test_sub, sub_genre_encoder, \"Main + Subgenre (LightGBM)\")\n"
   ],
   "outputs": [],
   "execution_count": null
  },
  {
   "cell_type": "code",
   "metadata": {},
   "source": [
    "joblib.dump(model_main, 'lightgbm_main_genre.pkl')\n",
    "joblib.dump(model_sub, 'lightgbm_main_and_sub.pkl')"
   ],
   "outputs": [],
   "execution_count": null
  }
 ],
 "metadata": {
  "kernelspec": {
   "display_name": "ai",
   "language": "python",
   "name": "python3"
  },
  "language_info": {
   "codemirror_mode": {
    "name": "ipython",
    "version": 3
   },
   "file_extension": ".py",
   "mimetype": "text/x-python",
   "name": "python",
   "nbconvert_exporter": "python",
   "pygments_lexer": "ipython3",
   "version": "3.12.2"
  }
 },
 "nbformat": 4,
 "nbformat_minor": 2
}

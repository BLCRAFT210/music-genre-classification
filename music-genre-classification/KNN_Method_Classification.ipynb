{
 "cells": [
  {
   "metadata": {
    "collapsed": true,
    "ExecuteTime": {
     "end_time": "2025-03-28T00:59:14.696995Z",
     "start_time": "2025-03-28T00:59:14.447882Z"
    }
   },
   "cell_type": "code",
   "source": [
    "import pandas as pd\n",
    "from sklearn.model_selection import train_test_split, RandomizedSearchCV, GridSearchCV\n",
    "from sklearn.metrics import classification_report, accuracy_score\n",
    "from sklearn.neighbors import KNeighborsClassifier\n",
    "import numpy as np\n",
    "\n",
    "# Read the CSV file\n",
    "df = pd.read_csv('../songdata.csv')\n",
    "\n",
    "features = df.drop(columns=[col for col in df.columns if col.startswith('label_')])\n",
    "features = features.drop(columns=['track_id', 'track_name', 'track_artist'])\n",
    "\n",
    "labels_main_only = df[[col for col in df.columns if col.startswith('label_')]]\n",
    "labels_main_only = labels_main_only.idxmax(axis=1).apply(lambda x: x.replace('label_', '').split('_')[0])\n",
    "\n",
    "labels_main_and_sub = df[[col for col in df.columns if col.startswith('label_')]]\n",
    "labels_main_and_sub = labels_main_and_sub.idxmax(axis=1).apply(lambda x: x.replace('label_', ''))\n",
    "\n"
   ],
   "id": "initial_id",
   "outputs": [],
   "execution_count": 12
  },
  {
   "metadata": {},
   "cell_type": "markdown",
   "source": "First, attempting a basic KNN model with only main genre labels, at K = 5:",
   "id": "e43a3d8be1de0e55"
  },
  {
   "metadata": {
    "ExecuteTime": {
     "end_time": "2025-03-28T00:59:17.856571Z",
     "start_time": "2025-03-28T00:59:17.522815Z"
    }
   },
   "cell_type": "code",
   "source": [
    "X_train, X_test, y_train, y_test = train_test_split(features, labels_main_only, test_size=0.2, random_state=42)\n",
    "\n",
    "knn = KNeighborsClassifier(n_neighbors=5, weights='uniform', metric='euclidean')\n",
    "knn.fit(X_train, y_train)\n",
    "\n",
    "y_pred = knn.predict(X_test)\n",
    "\n",
    "print(\"Accuracy Score: \", accuracy_score(y_test, y_pred))\n",
    "print(\"\\nClassification Report for each label:\\n\", classification_report(y_test, y_pred))"
   ],
   "id": "1aaa446691ac0f41",
   "outputs": [
    {
     "name": "stdout",
     "output_type": "stream",
     "text": [
      "Accuracy Score:  0.26907263590680675\n",
      "\n",
      "Classification Report for each label:\n",
      "               precision    recall  f1-score   support\n",
      "\n",
      "         edm       0.31      0.49      0.38      1218\n",
      "       latin       0.22      0.24      0.23      1033\n",
      "         pop       0.23      0.22      0.22      1081\n",
      "         r&b       0.24      0.22      0.23      1031\n",
      "         rap       0.29      0.20      0.24      1168\n",
      "        rock       0.30      0.22      0.25      1036\n",
      "\n",
      "    accuracy                           0.27      6567\n",
      "   macro avg       0.27      0.26      0.26      6567\n",
      "weighted avg       0.27      0.27      0.26      6567\n",
      "\n"
     ]
    }
   ],
   "execution_count": 13
  },
  {
   "metadata": {},
   "cell_type": "markdown",
   "source": [
    "this gives a relatively low accuracy score,\n",
    "```\n",
    "Accuracy Score:  0.26907263590680675\n",
    "```\n",
    "\n",
    "Next, trying the same model with genre+subgenre labels:"
   ],
   "id": "89c91328fe947e"
  },
  {
   "metadata": {},
   "cell_type": "code",
   "source": [
    "X_train, X_test, y_train, y_test = train_test_split(features, labels_main_and_sub, test_size=0.2, random_state=42)\n",
    "\n",
    "knn = KNeighborsClassifier(n_neighbors=5, weights='uniform', metric='euclidean')\n",
    "knn.fit(X_train, y_train)\n",
    "\n",
    "y_pred = knn.predict(X_test)\n",
    "\n",
    "print(\"Accuracy Score: \", accuracy_score(y_test, y_pred))\n",
    "print(\"\\nClassification Report for each label:\\n\", classification_report(y_test, y_pred))"
   ],
   "id": "f3cb48355e4373c",
   "outputs": [],
   "execution_count": null
  },
  {
   "metadata": {},
   "cell_type": "markdown",
   "source": [
    "Unsurprisingly, the accuracy score is even lower,\n",
    "```\n",
    "Accuracy Score:  0.06624029237094564\n",
    "```\n",
    "\n",
    "Next, trying to tune the hyperparameters with RandomizedSearchCV, starting with main genres only:"
   ],
   "id": "3c5674db8b18cac8"
  },
  {
   "metadata": {
    "ExecuteTime": {
     "end_time": "2025-03-28T01:00:47.628382Z",
     "start_time": "2025-03-28T01:00:09.519188Z"
    }
   },
   "cell_type": "code",
   "source": [
    "X_train, X_test, y_train, y_test = train_test_split(features, labels_main_only, test_size=0.2, random_state=42)\n",
    "\n",
    "param_dist = {\n",
    "    'n_neighbors': [int(x) for x in np.linspace(1, 40, num=10)],\n",
    "    'weights': ['uniform', 'distance'],\n",
    "    'metric': ['euclidean', 'manhattan', 'minkowski']\n",
    "}\n",
    "\n",
    "knn_tune = KNeighborsClassifier()\n",
    "grid_search = GridSearchCV(estimator=knn_tune, param_grid=param_dist, cv=5, n_jobs=-1, verbose=1)\n",
    "grid_search.fit(X_train, y_train)\n",
    "\n",
    "best_knn = grid_search.best_estimator_\n",
    "y_pred_tuned = best_knn.predict(X_test)\n",
    "\n",
    "print(\"Best Parameters:\", grid_search.best_params_)\n",
    "print(\"Tuned Accuracy Score: \", accuracy_score(y_test, y_pred_tuned))\n",
    "print(\"\\nTuned Classification Report:\\n\", classification_report(y_test, y_pred_tuned))"
   ],
   "id": "b3b54b43df62849f",
   "outputs": [
    {
     "name": "stdout",
     "output_type": "stream",
     "text": [
      "Fitting 5 folds for each of 60 candidates, totalling 300 fits\n",
      "Best Parameters: {'metric': 'manhattan', 'n_neighbors': 40, 'weights': 'distance'}\n",
      "Tuned Accuracy Score:  0.32724227196589006\n",
      "\n",
      "Tuned Classification Report:\n",
      "               precision    recall  f1-score   support\n",
      "\n",
      "         edm       0.38      0.50      0.43      1218\n",
      "       latin       0.30      0.27      0.29      1033\n",
      "         pop       0.23      0.25      0.24      1081\n",
      "         r&b       0.28      0.27      0.28      1031\n",
      "         rap       0.35      0.28      0.31      1168\n",
      "        rock       0.42      0.36      0.39      1036\n",
      "\n",
      "    accuracy                           0.33      6567\n",
      "   macro avg       0.33      0.32      0.32      6567\n",
      "weighted avg       0.33      0.33      0.32      6567\n",
      "\n"
     ]
    }
   ],
   "execution_count": 14
  },
  {
   "metadata": {},
   "cell_type": "markdown",
   "source": [
    "The accuracy score is noticably improved from the previous 0.269,\n",
    "```\n",
    "Tuned Accuracy Score:  0.327089995431704\n",
    "```\n",
    "\n",
    "However, this is still low, and it's expected for Random Forest and gradient boosting to perform significantly better. Next, trying with genre+subgenre labels:"
   ],
   "id": "b925035ecf3280fe"
  },
  {
   "metadata": {},
   "cell_type": "code",
   "source": [
    "X_train, X_test, y_train, y_test = train_test_split(features, labels_main_and_sub, test_size=0.2, random_state=42)\n",
    "\n",
    "param_dist = {\n",
    "    'n_neighbors': [int(x) for x in np.linspace(1, 40, num=10)],\n",
    "    'weights': ['uniform', 'distance'],\n",
    "    'metric': ['euclidean', 'manhattan', 'minkowski']\n",
    "}\n",
    "\n",
    "knn_tune = KNeighborsClassifier()\n",
    "random_search = RandomizedSearchCV(estimator=knn_tune, param_distributions=param_dist,\n",
    "                                   n_iter=20, cv=5, n_jobs=-1, random_state=42, verbose=1)\n",
    "random_search.fit(X_train, y_train)\n",
    "\n",
    "best_knn = random_search.best_estimator_\n",
    "y_pred_tuned = best_knn.predict(X_test)\n",
    "\n",
    "print(\"Best Parameters:\", random_search.best_params_)\n",
    "print(\"Tuned Accuracy Score: \", accuracy_score(y_test, y_pred_tuned))\n",
    "print(\"\\nTuned Classification Report:\\n\", classification_report(y_test, y_pred_tuned))"
   ],
   "id": "6778c01d90ceb34b",
   "outputs": [],
   "execution_count": null
  },
  {
   "metadata": {},
   "cell_type": "markdown",
   "source": [
    "A slight improvement from the previous 0.066,\n",
    "```\n",
    "Tuned Accuracy Score:  0.08420892340490331\n",
    "```"
   ],
   "id": "8a29e90399fbf72d"
  }
 ],
 "metadata": {
  "kernelspec": {
   "display_name": "Python 3",
   "language": "python",
   "name": "python3"
  },
  "language_info": {
   "codemirror_mode": {
    "name": "ipython",
    "version": 2
   },
   "file_extension": ".py",
   "mimetype": "text/x-python",
   "name": "python",
   "nbconvert_exporter": "python",
   "pygments_lexer": "ipython2",
   "version": "2.7.6"
  }
 },
 "nbformat": 4,
 "nbformat_minor": 5
}
